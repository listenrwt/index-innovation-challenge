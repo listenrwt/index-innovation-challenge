{
 "cells": [
  {
   "cell_type": "code",
   "execution_count": 1,
   "metadata": {},
   "outputs": [],
   "source": [
    "import requests\n",
    "from bs4 import BeautifulSoup\n",
    "import json\n",
    "from pdfminer.high_level import extract_text\n",
    "from io import BytesIO\n",
    "import pandas as pd"
   ]
  },
  {
   "cell_type": "markdown",
   "metadata": {},
   "source": [
    "1.0 Obtain \"Total Issued Shares\""
   ]
  },
  {
   "cell_type": "code",
   "execution_count": 2,
   "metadata": {},
   "outputs": [],
   "source": [
    "def crawl_monthly_return(url,code):\n",
    "    \"\"\"\n",
    "    Crawls the provided URL to extract total shares on the monthly return report\n",
    "\n",
    "    Args:\n",
    "        url (str): The base URL for the pdf to be crawled.\n",
    "        code (str): The stock code for the PDF to be crawled. (\"1787.HK\")\n",
    "\n",
    "    Returns:\n",
    "        json: A json object containing the stock code and the total shares\n",
    "    \"\"\"    \n",
    "\n",
    "    '''\n",
    "    Part 1\n",
    "    # packages used: pdfminer\n",
    "    # Fetch the PDF from the web and extract text from the file\n",
    "    '''\n",
    "    response = requests.get(url)\n",
    "\n",
    "    # Load the PDF into BytesIO\n",
    "    pdf_file = BytesIO(response.content)\n",
    "\n",
    "    # Extract text from PDF\n",
    "    pdf_contents = extract_text(pdf_file)\n",
    "\n",
    "    #store contents to list\n",
    "    contents = list(filter(None, pdf_contents.split('\\n')))\n",
    "        \n",
    "    '''\n",
    "    Part 2\n",
    "    Extracting Part II data from the PDF string 'contents'\n",
    "    Extracted raw Part II data is stored in List (Filtered)\n",
    "    '''\n",
    "            \n",
    "    Filtered = []\n",
    "  \n",
    "    # Function to Select Part II of the PDF\n",
    "    isData = False   \n",
    "    for x in contents:\n",
    "        if 'Movements in Issued Shares' in x:\n",
    "            isData = True\n",
    "        if 'Details of Movements in Issued Shares' in x:\n",
    "            isData = False\n",
    "        if (isData == True):\n",
    "            Filtered.append(x)\n",
    "\n",
    "    print(Filtered)  # test line, prints the Part II text in (List) form\n",
    "\n",
    "    '''\n",
    "    Part 3\n",
    "    Filter out the useful data from Part II text\n",
    "    Extracted data stored in Dictionary (data)\n",
    "    '''\n",
    "  \n",
    "    data = {}\n",
    "    isHshares = 0    #parameter to check whether the stock is 港股\n",
    "    sharesAmount = 0\n",
    "\n",
    "    '''\n",
    "    Loop through the List of texts in Part II of pdf, and then extract the total number of H shares.\n",
    "    Extracted data MUST satisfy:\n",
    "      1. stock type = 'H', or 'Not applicable'\n",
    "      2. double check the stock code on the PDF, and the code is the same as input\n",
    "    After finishing the data extraction, add a '0' to Stock code\n",
    "      E.g. '1477.HK' -> '01477'\n",
    "    '''\n",
    "    for x in range(len(Filtered)):\n",
    "        if (Filtered[x] == 'Type of shares'):\n",
    "            if (Filtered[x+1] ==  'H' or Filtered[x+1] == 'Not applicable'):\n",
    "                isHshares = 1\n",
    "            else:\n",
    "                isHshares = 0\n",
    "        if (Filtered[x] == 'Stock code'):\n",
    "            if (isHshares == 1 and Filtered[x+1] == ('0'+code).replace('.HK','')):\n",
    "                isHshares = 1\n",
    "            else:\n",
    "                isHshares = 0\n",
    "\n",
    "        if (Filtered[x] == 'Balance at close of the month' and isHshares == 1):\n",
    "            data[\"stock_code\"] = ('0'+code).replace('.HK','')\n",
    "            sharesAmount += int(Filtered[x+1].replace(\",\", \"\"))\n",
    "\n",
    "    # store data \n",
    "    data[\"total_issued_shares\"] = sharesAmount   \n",
    "\n",
    "    \"\"\" JSON Example: \n",
    "        {\n",
    "            \"stock_code\": \"01477\",\n",
    "            \"total_issued_shares\": 690903850\n",
    "        }\n",
    "    \"\"\"\n",
    "    return data\n",
    "\n",
    "#data = crawl_monthly_return(\"https://www1.hkexnews.hk/listedco/listconews/sehk/2024/0102/2024010201366.pdf\", \"1787.HK\")\n",
    "#print(data[\"total_issued_shares\"])"
   ]
  },
  {
   "cell_type": "markdown",
   "metadata": {},
   "source": [
    "1.1 Obtain SDI data"
   ]
  },
  {
   "cell_type": "code",
   "execution_count": 3,
   "metadata": {},
   "outputs": [],
   "source": [
    "# Fetch and extract data from the URLs in the SDI column\n",
    "def crawl_sdi(url):\n",
    "    \"\"\"\n",
    "    Crawls the provided URL to extract data on substantial shareholders and notices.\n",
    "\n",
    "    Args:\n",
    "        url (str): The base URL for the sdi page to be crawled.\n",
    "\n",
    "    Returns:\n",
    "        json: A json object containing extracted information, including a list of substantial\n",
    "            shareholders and notices. \n",
    "\n",
    "    Raises:\n",
    "        requests.exceptions.RequestException: If an error occurs during the request.\n",
    "    \"\"\"\n",
    "    def fetch_form(urls, name_field):\n",
    "        data_list = []\n",
    "        for url in urls:\n",
    "            if url:\n",
    "                response = requests.get(url)\n",
    "                response.raise_for_status()\n",
    "                soup = BeautifulSoup(response.text, 'html.parser')\n",
    "                \n",
    "                # Find the data table\n",
    "                data_table = soup.find('table', {'id': 'grdPaging'})\n",
    "                if data_table:\n",
    "                    for sub_row in data_table.find_all('tr')[1:]:  # Skip header\n",
    "                        sub_cols = sub_row.find_all('td')\n",
    "                        if len(sub_cols) >= 2:\n",
    "                            name = sub_cols[1].get_text(strip=True)\n",
    "                            url = base_url + sub_cols[0].find('a')['href'] if sub_cols[0].find('a') else None\n",
    "                            \n",
    "                            shares = None\n",
    "                            sum_of_derivatives = 0\n",
    "                            event_date = None\n",
    "                            \n",
    "                            if url:\n",
    "                                url_response = requests.get(url)\n",
    "                                url_response.raise_for_status()\n",
    "                                url_soup = BeautifulSoup(url_response.text, 'html.parser')\n",
    "\n",
    "                                date_span = url_soup.find('span', id='lblDEventDate')\n",
    "                                event_date = date_span.get_text(strip=True).split('(')[0] if date_span else None\n",
    "\n",
    "                                shares_table = url_soup.find('table', {'id': 'grdSh_AEvt'})\n",
    "                                if shares_table:\n",
    "                                    shares = []\n",
    "                                    for row in shares_table.find_all('tr')[1:]:  # Skip header\n",
    "                                        cols = row.find_all('td')\n",
    "                                        total_number_of_shares = int(cols[1].get_text(strip=True).replace(',', ''))\n",
    "                                        percentage = float(cols[2].get_text(strip=True))\n",
    "                                        shares.append({\"total_number_of_shares\": total_number_of_shares, \"percentage_figure\": percentage})\n",
    "\n",
    "                                derivatives_table = url_soup.find('table', {'id': 'grdDer_Dir'})\n",
    "                                if derivatives_table:\n",
    "                                    for row in derivatives_table.find_all('tr')[1:]:  # Skip header\n",
    "                                        cols = row.find_all('td')\n",
    "                                        derivative_str = cols[len(cols) - 1].get_text(strip=True).replace(',', '')\n",
    "                                        if derivative_str.lstrip('-').isdigit():\n",
    "                                            sum_of_derivatives += int(derivative_str)\n",
    "                                \n",
    "                            data_list.append({\n",
    "                                name_field: name,\n",
    "                                \"date_of_relevant_event\": event_date,\n",
    "                                \"long_position\": shares,\n",
    "                                \"total_number_of_derivatives\": sum_of_derivatives,\n",
    "                            })\n",
    "        return data_list\n",
    "\n",
    "    # Base URL for the extracted links\n",
    "    base_url = 'https://di.hkex.com.hk/di/'\n",
    "    \n",
    "    # Prepare lists for extracted information\n",
    "    substantial_shareholders_urls, notices_urls = [], []\n",
    "    substantial_shareholders_data, notices_data = [], []\n",
    "    \n",
    "    try:\n",
    "        response = requests.get(url)\n",
    "        response.raise_for_status()\n",
    "        soup = BeautifulSoup(response.text, 'html.parser')\n",
    "        table = soup.find('table', {'id': 'grdPaging'})\n",
    "\n",
    "        if not table:\n",
    "            print(f\"No table found for {url}\")\n",
    "            return \n",
    "\n",
    "        for row in table.find_all('tr')[1:]:  # Skip header\n",
    "            cols = row.find_all('td')\n",
    "            if len(cols) < 3: continue\n",
    "\n",
    "            stock_code = cols[0].get_text(strip=True)\n",
    "            corporation_name = cols[1].get_text(strip=True)\n",
    "            links = [a['href'] for a in cols[2].find_all('a')]\n",
    "\n",
    "            substantial_shareholders_urls.append(base_url + links[1] if len(links) > 1 else None)\n",
    "            notices_urls.append(base_url + links[5] if len(links) > 5 else None)\n",
    "\n",
    "            # Fetch substantial shareholders data\n",
    "            substantial_shareholders_data = fetch_form(substantial_shareholders_urls, \"name_of_substantial_shareholder\")\n",
    "            # Fetch notices data\n",
    "            notices_data = fetch_form(notices_urls, \"name_of_noticed_shareholder\")\n",
    "\n",
    "            # Prepare the record\n",
    "            record = {\n",
    "                'stock_code': stock_code,\n",
    "                'name_of_listed_corporation': corporation_name,\n",
    "                'consolidated_list_of_substantial_shareholders': substantial_shareholders_data,\n",
    "                'list_of_all_notices': notices_data,\n",
    "            }\n",
    "\n",
    "        print(f\"Data extracted from {url}.\")\n",
    "\n",
    "    except requests.exceptions.RequestException as e:\n",
    "        print(f\"Error fetching {url}: {e}\")\n",
    "    \n",
    "    print(\"Data extraction completed. JSON object generated.\")\n",
    "\n",
    "    \"\"\" JSON Example: \n",
    "        {\n",
    "            \"stock_code\": \"01477\",\n",
    "            \"name_of_listed_corporation\": \"Ocumension Therapeutics - B\",\n",
    "            \"consolidated_list_of_substantial_shareholders\": [\n",
    "                {\n",
    "                    \"name_of_substantial_shareholder\": \"6 Dimensions Capital GP, LLC\",\n",
    "                    \"date_of_relevant_event\": \"21/12/2021\",\n",
    "                    \"long_position\": [\n",
    "                    {\n",
    "                        \"total_number_of_shares\": 126200000,\n",
    "                        \"percentage_figure\": 18.92\n",
    "                    }\n",
    "                    ],\n",
    "                    \"total_number_of_derivatives\": 0\n",
    "                },\n",
    "                {\n",
    "                    \"name_of_substantial_shareholder\": \"CHEN Ziqing\",\n",
    "                    \"date_of_relevant_event\": \"21/12/2021\",\n",
    "                    \"long_position\": [\n",
    "                    {\n",
    "                        \"total_number_of_shares\": 126200000,\n",
    "                        \"percentage_figure\": 18.92\n",
    "                    }\n",
    "                    ],\n",
    "                    \"total_number_of_derivatives\": 0\n",
    "                },\n",
    "            ],\n",
    "            \"list_of_all_notices\": [\n",
    "                {\n",
    "                    \"name_of_noticed_shareholder\": \"Hu Zhaopeng\",\n",
    "                    \"date_of_relevant_event\": \"13/12/2023\",\n",
    "                    \"long_position\": [\n",
    "                    {\n",
    "                        \"total_number_of_shares\": 4204658,\n",
    "                        \"percentage_figure\": 0.6\n",
    "                    }\n",
    "                    ],\n",
    "                    \"total_number_of_derivatives\": 564885\n",
    "                },\n",
    "                {\n",
    "                    \"name_of_noticed_shareholder\": \"Hu Zhaopeng\",\n",
    "                    \"date_of_relevant_event\": \"11/12/2023\",\n",
    "                    \"long_position\": [\n",
    "                    {\n",
    "                        \"total_number_of_shares\": 4206585,\n",
    "                        \"percentage_figure\": 0.6\n",
    "                    }\n",
    "                    ],\n",
    "                    \"total_number_of_derivatives\": 564885\n",
    "                }\n",
    "            ]\n",
    "        }  \n",
    "    \"\"\"  \n",
    "    return record\n",
    "\n",
    "#data = crawl_sdi(\"https://di.hkex.com.hk/di/NSSrchCorpList.aspx?sa1=cl&scsd=01/07/2023&sced=31/12/2023&sc=1477&src=MAIN&lang=EN&g_lang=en\")\n",
    "#print(json.dumps(data, indent=4))"
   ]
  },
  {
   "cell_type": "markdown",
   "metadata": {},
   "source": [
    "1.2 Obtain financial report's data (RAG)"
   ]
  },
  {
   "cell_type": "code",
   "execution_count": 4,
   "metadata": {},
   "outputs": [],
   "source": [
    "# Output :\n",
    "rag_data = {\n",
    "    \"stock_code\": \"01477\",\n",
    "     \"consolidated_list_of_substantial_shareholders\": [\n",
    "        {\n",
    "            \"name_of_substantial_shareholder\": \"6 Dimensions Capital GP, LLC\",\n",
    "            \"date_of_relevant_event\": \"21/12/2021\",\n",
    "            \"long_position\": [\n",
    "                    {\n",
    "                        \"total_number_of_shares\": 126200000,\n",
    "                    }\n",
    "            ],    \n",
    "            \"theresold\": True\n",
    "        }\n",
    "    ]\n",
    "}"
   ]
  },
  {
   "cell_type": "markdown",
   "metadata": {},
   "source": [
    "1.3 Execute"
   ]
  },
  {
   "cell_type": "code",
   "execution_count": 5,
   "metadata": {},
   "outputs": [
    {
     "name": "stderr",
     "output_type": "stream",
     "text": [
      "Processing:   0%|          | 0/51 [00:00<?, ?it/s]"
     ]
    },
    {
     "name": "stdout",
     "output_type": "stream",
     "text": [
      "['\\x0cII. Movements in Issued Shares', '1. Class of shares', 'Ordinary shares', 'Type of shares', 'Not applicable', 'Listed on SEHK (Note 1)', 'Yes', 'Stock code', '00002', 'Description', 'Not applicable', 'Balance at close of preceding month', 'Increase / decrease (-)', 'Balance at close of the month', '2,526,450,570', '0', '2,526,450,570', 'FF301', 'Page 2 of 6', 'v', '1.0.2']\n"
     ]
    },
    {
     "name": "stderr",
     "output_type": "stream",
     "text": [
      "Processing:  24%|██▎       | 12/51 [00:01<00:03, 10.62it/s]"
     ]
    },
    {
     "name": "stdout",
     "output_type": "stream",
     "text": [
      "Data extracted from https://di.hkex.com.hk/di/NSSrchCorpList.aspx?sa1=cl&scsd=01/07/2023&sced=31/12/2023&sc=2&src=MAIN&lang=EN&g_lang=en.\n",
      "Data extraction completed. JSON object generated.\n",
      "['II. Movements in Issued Shares', '1. Class of shares', 'Ordinary shares', 'Type of shares', 'H', 'Listed on SEHK (Note 1)', 'Yes', 'Stock code', '00038', 'Description', 'Balance at close of preceding month', 'Increase / decrease (-)', 'Balance at close of the month', '391,940,000', '391,940,000', '2. Class of shares', 'Ordinary shares', 'Type of shares', 'A', 'Listed on SEHK (Note 1)', 'No', 'Stock code', '601038', 'Description', 'A shares listed on SSE', 'Balance at close of preceding month', 'Increase / decrease (-)', 'Balance at close of the month', '731,705,275', '731,705,275', 'Page 2 of 6', 'v', '1.0.2']\n",
      "Data extracted from https://di.hkex.com.hk/di/NSSrchCorpList.aspx?sa1=cl&scsd=01/07/2023&sced=31/12/2023&sc=38&src=MAIN&lang=EN&g_lang=en.\n",
      "Data extraction completed. JSON object generated.\n",
      "['\\x0cII. Movements in Issued Shares', '1. Class of shares', 'Ordinary shares', 'Type of shares', 'Not applicable', 'Listed on SEHK (Note 1)', 'Yes', 'Stock code', '00069', 'Description', 'Balance at close of preceding month', '3,585,525,056', 'Increase / decrease (-)', 'Balance at close of the month', '3,585,525,056', 'FF301', 'Page 2 of 6', 'v', '1.0.2']\n"
     ]
    },
    {
     "name": "stderr",
     "output_type": "stream",
     "text": [
      "Processing:  27%|██▋       | 14/51 [00:02<00:09,  3.98it/s]"
     ]
    },
    {
     "name": "stdout",
     "output_type": "stream",
     "text": [
      "Data extracted from https://di.hkex.com.hk/di/NSSrchCorpList.aspx?sa1=cl&scsd=01/07/2023&sced=31/12/2023&sc=69&src=MAIN&lang=EN&g_lang=en.\n",
      "Data extraction completed. JSON object generated.\n",
      "['\\x0cII. Movements in Issued Shares', '1. Class of shares', 'Ordinary shares', 'Type of shares', 'Not applicable', 'Listed on SEHK (Note 1)', 'Yes', 'Stock code', '00136', 'Description', 'Balance at close of preceding month', '11,585,897,545', 'Increase / decrease (-)', 'Balance at close of the month', '11,585,897,545', 'FF301', 'Page 2 of 8', 'v', '1.0.2']\n"
     ]
    },
    {
     "name": "stderr",
     "output_type": "stream",
     "text": [
      "Processing:  29%|██▉       | 15/51 [00:05<00:19,  1.83it/s]"
     ]
    },
    {
     "name": "stdout",
     "output_type": "stream",
     "text": [
      "Data extracted from https://di.hkex.com.hk/di/NSSrchCorpList.aspx?sa1=cl&scsd=01/07/2023&sced=31/12/2023&sc=136&src=MAIN&lang=EN&g_lang=en.\n",
      "Data extraction completed. JSON object generated.\n",
      "['\\x0cII. Movements in Issued Shares', '1. Class of shares', 'Ordinary shares', 'Type of shares', 'Not applicable', 'Listed on SEHK (Note 1)', 'Yes', 'Stock code', '00271', 'Description', 'Balance at close of preceding month', '1,240,668,945', 'Increase / decrease (-)', 'Balance at close of the month', '1,240,668,945', 'FF301', 'Page 2 of 6', 'v', '1.0.2']\n"
     ]
    },
    {
     "name": "stderr",
     "output_type": "stream",
     "text": [
      "Processing:  31%|███▏      | 16/51 [00:07<00:23,  1.47it/s]"
     ]
    },
    {
     "name": "stdout",
     "output_type": "stream",
     "text": [
      "Data extracted from https://di.hkex.com.hk/di/NSSrchCorpList.aspx?sa1=cl&scsd=01/07/2023&sced=31/12/2023&sc=271&src=MAIN&lang=EN&g_lang=en.\n",
      "Data extraction completed. JSON object generated.\n",
      "['\\x0cII. Movements in Issued Shares', '1. Class of shares', 'Ordinary shares', 'Type of shares', 'Not applicable', 'Listed on SEHK (Note 1)', 'Yes', 'Stock code', '00933', 'Description', 'Balance at close of preceding month', 'Increase / decrease (-)', 'Balance at close of the month', '9,722,276,727', '0', '9,722,276,727', 'FF301', 'Page 2 of 7', 'v', '1.0.2']\n"
     ]
    },
    {
     "name": "stderr",
     "output_type": "stream",
     "text": [
      "Processing:  33%|███▎      | 17/51 [00:10<00:36,  1.08s/it]"
     ]
    },
    {
     "name": "stdout",
     "output_type": "stream",
     "text": [
      "Data extracted from https://di.hkex.com.hk/di/NSSrchCorpList.aspx?sa1=cl&scsd=01/07/2023&sced=31/12/2023&sc=933&src=MAIN&lang=EN&g_lang=en.\n",
      "Data extraction completed. JSON object generated.\n",
      "['II. Movements in Issued Shares', '1. Class of shares', 'Ordinary shares', 'Type of shares', 'Not applicable', 'Listed on SEHK (Note 1)', 'Yes', 'Stock code', '00981', 'Description', 'Hong Kong Shares', 'Balance at close of preceding month', 'Increase / decrease (-)', 'Balance at close of the month', '5,972,933,178', '13,410', '5,972,946,588', '2. Class of shares', 'Ordinary shares', 'Type of shares', 'Not applicable', 'Listed on SEHK (Note 1)', 'No', 'Stock code', '688981', 'Description', 'The common shares of the Company listed on the Science and Technology Innovation Board of the ', 'Shanghai Stock Exchange, which are subscribed in RMB by investors in the PRC.', 'Balance at close of preceding month', 'Increase / decrease (-)', 'Balance at close of the month', '1,973,609,172', '0', '1,973,609,172', 'Page 2 of 7', 'v', '1.0.2']\n"
     ]
    },
    {
     "name": "stderr",
     "output_type": "stream",
     "text": [
      "Processing:  35%|███▌      | 18/51 [00:13<00:53,  1.62s/it]"
     ]
    },
    {
     "name": "stdout",
     "output_type": "stream",
     "text": [
      "Data extracted from https://di.hkex.com.hk/di/NSSrchCorpList.aspx?sa1=cl&scsd=01/07/2023&sced=31/12/2023&sc=981&src=MAIN&lang=EN&g_lang=en.\n",
      "Data extraction completed. JSON object generated.\n",
      "['\\x0cII. Movements in Issued Shares', '1. Class of shares', 'Ordinary shares', 'Type of shares', 'Not applicable', 'Listed on SEHK (Note 1)', 'Yes', 'Stock code', '00990', 'Description', 'Balance at close of preceding month', '13,471,344,631', 'Increase / decrease (-)', 'Balance at close of the month', '13,471,344,631', 'FF301', 'Page 2 of 6', 'v', '1.0.2']\n"
     ]
    },
    {
     "name": "stderr",
     "output_type": "stream",
     "text": [
      "Processing:  37%|███▋      | 19/51 [00:14<00:44,  1.40s/it]"
     ]
    },
    {
     "name": "stdout",
     "output_type": "stream",
     "text": [
      "Data extracted from https://di.hkex.com.hk/di/NSSrchCorpList.aspx?sa1=cl&scsd=01/07/2023&sced=31/12/2023&sc=990&src=MAIN&lang=EN&g_lang=en.\n",
      "Data extraction completed. JSON object generated.\n",
      "['II. Movements in Issued Shares', '1. Class of shares', 'Ordinary shares', 'Type of shares', 'H', 'Listed on SEHK (Note 1)', 'Yes', 'Stock code', '01055', 'Description', 'Balance at close of preceding month', 'Increase / decrease (-)', 'Balance at close of the month', '4,643,997,308', '0', '4,643,997,308', '2. Class of shares', 'Ordinary shares', 'Type of shares', 'A', 'Listed on SEHK (Note 1)', 'No', 'Stock code', '600029', 'Description', 'Balance at close of preceding month', 'Increase / decrease (-)', 'Balance at close of the month', '13,476,909,012', '486', '13,476,909,498', 'Page 2 of 7', 'v', '1.0.2']\n"
     ]
    },
    {
     "name": "stderr",
     "output_type": "stream",
     "text": [
      "Processing:  39%|███▉      | 20/51 [00:16<00:44,  1.45s/it]"
     ]
    },
    {
     "name": "stdout",
     "output_type": "stream",
     "text": [
      "Data extracted from https://di.hkex.com.hk/di/NSSrchCorpList.aspx?sa1=cl&scsd=01/07/2023&sced=31/12/2023&sc=1055&src=MAIN&lang=EN&g_lang=en.\n",
      "Data extraction completed. JSON object generated.\n",
      "['\\x0cII. Movements in Issued Shares', '1. Class of shares', 'Ordinary shares', 'Type of shares', 'Not applicable', 'Listed on SEHK (Note 1)', 'Yes', 'Stock code', '01182', 'Description', 'Balance at close of preceding month', 'Increase / decrease (-)', 'Balance at close of the month', '349,519,567', '349,519,567', 'FF301', 'Page 2 of 6', 'v', '1.0.2']\n"
     ]
    },
    {
     "name": "stderr",
     "output_type": "stream",
     "text": [
      "Processing:  41%|████      | 21/51 [00:16<00:38,  1.29s/it]"
     ]
    },
    {
     "name": "stdout",
     "output_type": "stream",
     "text": [
      "Data extracted from https://di.hkex.com.hk/di/NSSrchCorpList.aspx?sa1=cl&scsd=01/10/2023&sced=31/12/2023&sc=1182&src=MAIN&lang=EN&g_lang=en.\n",
      "Data extraction completed. JSON object generated.\n",
      "['\\x0cII. Movements in Issued Shares', '1. Class of shares', 'Ordinary shares', 'Type of shares', 'Not applicable', 'Listed on SEHK (Note 1)', 'Yes', 'Stock code', '01310', 'Description', 'Balance at close of preceding month', 'Increase / decrease (-)', 'Balance at close of the month', '1,311,599,356', '0', '1,311,599,356', 'FF301', 'Page 2 of 7', 'v', '1.0.2']\n"
     ]
    },
    {
     "name": "stderr",
     "output_type": "stream",
     "text": [
      "Processing:  43%|████▎     | 22/51 [00:18<00:41,  1.43s/it]"
     ]
    },
    {
     "name": "stdout",
     "output_type": "stream",
     "text": [
      "Data extracted from https://di.hkex.com.hk/di/NSSrchCorpList.aspx?sa1=cl&scsd=01/09/2023&sced=31/12/2023&sc=1310&src=MAIN&lang=EN&g_lang=en.\n",
      "Data extraction completed. JSON object generated.\n",
      "['II. Movements in Issued Shares', '1. Class of shares', 'Ordinary shares', 'Type of shares', 'Not applicable', 'Listed on SEHK (Note 1)', 'Yes', 'Stock code', '01347', 'Description', 'Balance at close of preceding month', 'Increase / decrease (-)', 'Balance at close of the month', '1,308,804,360', '34,334', '1,308,838,694', '2. Class of shares', 'Ordinary shares', 'Type of shares', 'A', 'Listed on SEHK (Note 1)', 'No', 'Stock code', '688347', 'Description', 'Shares listed on the STAR Market of the Shanghai Stock Exchange', 'Balance at close of preceding month', 'Increase / decrease (-)', 'Balance at close of the month', '407,750,000', '407,750,000', 'Page 2 of 6', 'v', '1.0.2']\n"
     ]
    },
    {
     "name": "stderr",
     "output_type": "stream",
     "text": [
      "Processing:  45%|████▌     | 23/51 [00:20<00:44,  1.59s/it]"
     ]
    },
    {
     "name": "stdout",
     "output_type": "stream",
     "text": [
      "Data extracted from https://di.hkex.com.hk/di/NSSrchCorpList.aspx?sa1=cl&scsd=01/07/2023&sced=31/12/2023&sc=1347&src=MAIN&lang=EN&g_lang=en.\n",
      "Data extraction completed. JSON object generated.\n",
      "['II. Movements in Issued Shares', '1. Class of shares', 'Ordinary shares', 'Type of shares', 'H', 'Listed on SEHK (Note 1)', 'Yes', 'Stock code', '01456', 'Description', 'Balance at close of preceding month', 'Increase / decrease (-)', 'Balance at close of the month', '442,640,000', '442,640,000', '2. Class of shares', 'Ordinary shares', 'Type of shares', 'A', 'Listed on SEHK (Note 1)', 'No', 'Stock code', '601456', 'Description', 'Shanghai Stock Exchange', 'Balance at close of preceding month', '2,389,133,168', 'Increase / decrease (-)', 'Balance at close of the month', '2,389,133,168', 'Page 2 of 6', 'v', '1.0.2']\n"
     ]
    },
    {
     "name": "stderr",
     "output_type": "stream",
     "text": [
      "Processing:  47%|████▋     | 24/51 [00:22<00:42,  1.58s/it]"
     ]
    },
    {
     "name": "stdout",
     "output_type": "stream",
     "text": [
      "Data extracted from https://di.hkex.com.hk/di/NSSrchCorpList.aspx?sa1=cl&scsd=01/07/2023&sced=31/12/2023&sc=1456&src=MAIN&lang=EN&g_lang=en.\n",
      "Data extraction completed. JSON object generated.\n",
      "['\\x0cII. Movements in Issued Shares', '1. Class of shares', 'Ordinary shares', 'Type of shares', 'Not applicable', 'Listed on SEHK (Note 1)', 'Yes', 'Stock code', '01681', 'Description', 'Balance at close of preceding month', 'Increase / decrease (-)', 'Balance at close of the month', '811,016,860', '0', '811,016,860', 'FF301', 'Page 2 of 6', 'v', '1.0.2']\n"
     ]
    },
    {
     "name": "stderr",
     "output_type": "stream",
     "text": [
      "Processing:  49%|████▉     | 25/51 [00:23<00:38,  1.49s/it]"
     ]
    },
    {
     "name": "stdout",
     "output_type": "stream",
     "text": [
      "Data extracted from https://di.hkex.com.hk/di/NSSrchCorpList.aspx?sa1=cl&scsd=01/07/2023&sced=31/12/2023&sc=1681&src=MAIN&lang=EN&g_lang=en.\n",
      "Data extraction completed. JSON object generated.\n",
      "['\\x0cII. Movements in Issued Shares', '1. Class of shares', 'Ordinary shares', 'Type of shares', 'Not applicable', 'Listed on SEHK (Note 1)', 'Yes', 'Stock code', '01833', 'Description', 'Balance at close of preceding month', '1,118,812,900', 'Increase / decrease (-)', 'Balance at close of the month', '1,118,812,900', 'FF301', 'Page 2 of 6', 'v', '1.0.2']\n"
     ]
    },
    {
     "name": "stderr",
     "output_type": "stream",
     "text": [
      "Processing:  51%|█████     | 26/51 [00:26<00:44,  1.80s/it]"
     ]
    },
    {
     "name": "stdout",
     "output_type": "stream",
     "text": [
      "Data extracted from https://di.hkex.com.hk/di/NSSrchCorpList.aspx?sa1=cl&scsd=01/07/2023&sced=31/12/2023&sc=1833&src=MAIN&lang=EN&g_lang=en.\n",
      "Data extraction completed. JSON object generated.\n",
      "['\\x0cII. Movements in Issued Shares', '1. Class of shares', 'Ordinary shares', 'Type of shares', 'Not applicable', 'Listed on SEHK (Note 1)', 'Yes', 'Stock code', '01836', 'Description', 'Balance at close of preceding month', 'Increase / decrease (-)', 'Balance at close of the month', '795,079,500', '120,500', '795,200,000', 'FF301', 'Page 2 of 6', 'v', '1.0.2']\n"
     ]
    },
    {
     "name": "stderr",
     "output_type": "stream",
     "text": [
      "Processing:  53%|█████▎    | 27/51 [00:27<00:41,  1.72s/it]"
     ]
    },
    {
     "name": "stdout",
     "output_type": "stream",
     "text": [
      "Data extracted from https://di.hkex.com.hk/di/NSSrchCorpList.aspx?sa1=cl&scsd=01/07/2023&sced=31/12/2023&sc=1836&src=MAIN&lang=EN&g_lang=en.\n",
      "Data extraction completed. JSON object generated.\n",
      "['II. Movements in Issued Shares', '1. Class of shares', 'Ordinary shares', 'Type of shares', 'H', 'Listed on SEHK (Note 1)', 'Yes', 'Stock code', '01880', 'Description', 'Balance at close of preceding month', 'Increase / decrease (-)', 'Balance at close of the month', '116,383,500', '0', '116,383,500', '2. Class of shares', 'Ordinary shares', 'Type of shares', 'A', 'Listed on SEHK (Note 1)', 'No', 'Stock code', '601888', 'Description', 'Listed on the main board of the Shanghai Stock Exchange', 'Balance at close of preceding month', 'Increase / decrease (-)', 'Balance at close of the month', '1,952,475,544', '0', '1,952,475,544', 'Page 2 of 6', 'v', '1.0.2']\n"
     ]
    },
    {
     "name": "stderr",
     "output_type": "stream",
     "text": [
      "Processing:  55%|█████▍    | 28/51 [00:45<02:28,  6.47s/it]"
     ]
    },
    {
     "name": "stdout",
     "output_type": "stream",
     "text": [
      "Data extracted from https://di.hkex.com.hk/di/NSSrchCorpList.aspx?sa1=cl&scsd=01/07/2023&sced=31/12/2023&sc=1880&src=MAIN&lang=EN&g_lang=en.\n",
      "Data extraction completed. JSON object generated.\n",
      "['\\x0cII. Movements in Issued Shares', '1. Class of shares', 'Ordinary shares', 'Type of shares', 'Not applicable', 'Listed on SEHK (Note 1)', 'Yes', 'Stock code', '01909', 'Description', 'Ordinary Shares', 'Balance at close of preceding month', 'Increase / decrease (-)', 'Balance at close of the month', '3,840,000,000', '0', '3,840,000,000', 'FF301', 'Page 2 of 6', 'v', '1.0.2']\n"
     ]
    },
    {
     "name": "stderr",
     "output_type": "stream",
     "text": [
      "Processing:  57%|█████▋    | 29/51 [00:49<02:03,  5.62s/it]"
     ]
    },
    {
     "name": "stdout",
     "output_type": "stream",
     "text": [
      "Data extracted from https://di.hkex.com.hk/di/NSSrchCorpList.aspx?sa1=cl&scsd=01/07/2023&sced=31/12/2023&sc=1909&src=MAIN&lang=EN&g_lang=en.\n",
      "Data extraction completed. JSON object generated.\n",
      "['\\x0cII. Movements in Issued Shares', '1. Class of shares', 'Ordinary shares', 'Type of shares', 'Not applicable', 'Listed on SEHK (Note 1)', 'Yes', 'Stock code', '01929', 'Description', 'Balance at close of preceding month', 'Increase / decrease (-)', 'Balance at close of the month', '10,000,000,000', '-12,263,200', '9,987,736,800', 'FF301', 'Page 2 of 6', 'v', '1.0.2']\n"
     ]
    },
    {
     "name": "stderr",
     "output_type": "stream",
     "text": [
      "Processing:  59%|█████▉    | 30/51 [00:49<01:28,  4.22s/it]"
     ]
    },
    {
     "name": "stdout",
     "output_type": "stream",
     "text": [
      "Data extracted from https://di.hkex.com.hk/di/NSSrchCorpList.aspx?sa1=cl&scsd=01/10/2023&sced=31/12/2023&sc=1929&src=MAIN&lang=EN&g_lang=en.\n",
      "Data extraction completed. JSON object generated.\n",
      "['II. Movements in Issued Shares', '1. Class of shares', 'Ordinary shares', 'Type of shares', 'H', 'Listed on SEHK (Note 1)', 'Yes', 'Stock code', '01988', 'Description', 'H Shares', 'Balance at close of preceding month', 'Increase / decrease (-)', 'Balance at close of the month', '8,320,295,289', '0', '8,320,295,289', '2. Class of shares', 'Ordinary shares', 'Type of shares', 'A', 'Listed on SEHK (Note 1)', 'No', 'Stock code', '600016', 'Description', 'A Shares', 'Balance at close of preceding month', 'Increase / decrease (-)', 'Balance at close of the month', '35,462,123,213', '0', '35,462,123,213', '3. Class of shares', 'Preference shares', 'Type of shares', 'Other type(specify in description)', 'Listed on SEHK (Note 1)', 'No', 'Stock code', '360037', 'Description', 'Domestic Preference Shares', 'Balance at close of preceding month', 'Increase / decrease (-)', 'Balance at close of the month', '200,000,000', '0', '200,000,000', 'Page 3 of 8', 'v', '1.0.2']\n"
     ]
    },
    {
     "name": "stderr",
     "output_type": "stream",
     "text": [
      "Processing:  61%|██████    | 31/51 [00:53<01:20,  4.02s/it]"
     ]
    },
    {
     "name": "stdout",
     "output_type": "stream",
     "text": [
      "Data extracted from https://di.hkex.com.hk/di/NSSrchCorpList.aspx?sa1=cl&scsd=01/07/2023&sced=31/12/2023&sc=1988&src=MAIN&lang=EN&g_lang=en.\n",
      "Data extraction completed. JSON object generated.\n",
      "['\\x0cII. Movements in Issued Shares', '1. Class of shares', 'Ordinary shares', 'Type of shares', 'Not applicable', 'Listed on SEHK (Note 1)', 'Yes', 'Stock code', '02013', 'Description', 'Balance at close of preceding month', 'Increase / decrease (-)', 'Balance at close of the month', '2,794,594,990', '0', '2,794,594,990', 'FF301', 'Page 2 of 7', 'v', '1.0.2']\n"
     ]
    },
    {
     "name": "stderr",
     "output_type": "stream",
     "text": [
      "Processing:  63%|██████▎   | 32/51 [00:59<01:29,  4.71s/it]"
     ]
    },
    {
     "name": "stdout",
     "output_type": "stream",
     "text": [
      "Data extracted from https://di.hkex.com.hk/di/NSSrchCorpList.aspx?sa1=cl&scsd=01/07/2023&sced=31/12/2023&sc=2013&src=MAIN&lang=EN&g_lang=en.\n",
      "Data extraction completed. JSON object generated.\n",
      "['\\x0cII. Movements in Issued Shares', '1. Class of shares', 'Ordinary shares', 'Type of shares', 'Not applicable', 'Listed on SEHK (Note 1)', 'Yes', 'FF301', 'Stock code', '02020', 'Description', 'Multi-counter stock code', '82020', 'RMB', 'Description', 'N/A', 'N/A', 'Balance at close of preceding month', 'Increase / decrease (-)', 'Balance at close of the month', '2,832,623,500', '0', '2,832,623,500', 'Page 2 of 7', 'v', '1.0.2']\n"
     ]
    },
    {
     "name": "stderr",
     "output_type": "stream",
     "text": [
      "Processing:  65%|██████▍   | 33/51 [01:00<01:04,  3.59s/it]"
     ]
    },
    {
     "name": "stdout",
     "output_type": "stream",
     "text": [
      "Data extracted from https://di.hkex.com.hk/di/NSSrchCorpList.aspx?sa1=cl&scsd=01/07/2023&sced=31/12/2023&sc=2020&src=MAIN&lang=EN&g_lang=en.\n",
      "Data extraction completed. JSON object generated.\n",
      "['II. Movements in Issued Shares', '1. Class of shares', 'Ordinary shares', 'Type of shares', 'H', 'Listed on SEHK (Note 1)', 'Yes', 'Stock code', '02145', 'Description', 'Balance at close of preceding month', 'Increase / decrease (-)', 'Balance at close of the month', '197,343,760', '0', '197,343,760', '2. Class of shares', 'Ordinary shares', 'Type of shares', 'Other type(specify in description)', 'Listed on SEHK (Note 1)', 'No', 'Stock code', 'N/A', 'Description', 'Domestic Shares', 'Balance at close of preceding month', 'Increase / decrease (-)', 'Balance at close of the month', '200,614,140', '0', '200,614,140', 'Page 3 of 7', 'v', '1.0.2']\n"
     ]
    },
    {
     "name": "stderr",
     "output_type": "stream",
     "text": [
      "Processing:  67%|██████▋   | 34/51 [01:02<00:53,  3.12s/it]"
     ]
    },
    {
     "name": "stdout",
     "output_type": "stream",
     "text": [
      "Data extracted from https://di.hkex.com.hk/di/NSSrchCorpList.aspx?sa1=cl&scsd=01/07/2023&sced=31/12/2023&sc=2145&src=MAIN&lang=EN&g_lang=en.\n",
      "Data extraction completed. JSON object generated.\n",
      "['\\x0cII. Movements in Issued Shares', '1. Class of shares', 'Ordinary shares', 'Type of shares', 'Not applicable', 'Listed on SEHK (Note 1)', 'Yes', 'Stock code', '02162', 'Description', 'Balance at close of preceding month', 'Increase / decrease (-)', 'Balance at close of the month', '279,735,566', '279,735,566', 'FF301', 'Page 2 of 6', 'v', '1.0.2']\n"
     ]
    },
    {
     "name": "stderr",
     "output_type": "stream",
     "text": [
      "Processing:  69%|██████▊   | 35/51 [01:03<00:40,  2.51s/it]"
     ]
    },
    {
     "name": "stdout",
     "output_type": "stream",
     "text": [
      "Data extracted from https://di.hkex.com.hk/di/NSSrchCorpList.aspx?sa1=cl&scsd=01/07/2023&sced=31/12/2023&sc=2162&src=MAIN&lang=EN&g_lang=en.\n",
      "Data extraction completed. JSON object generated.\n",
      "['\\x0cII. Movements in Issued Shares', '1. Class of shares', 'Ordinary shares', 'Type of shares', 'Not applicable', 'Listed on SEHK (Note 1)', 'Yes', 'Stock code', '02273', 'Description', 'Balance at close of preceding month', 'Increase / decrease (-)', 'Balance at close of the month', '246,589,092', '0', '246,589,092', 'FF301', 'Page 2 of 7', 'v', '1.0.2']\n"
     ]
    },
    {
     "name": "stderr",
     "output_type": "stream",
     "text": [
      "Processing:  71%|███████   | 36/51 [01:05<00:32,  2.14s/it]"
     ]
    },
    {
     "name": "stdout",
     "output_type": "stream",
     "text": [
      "Data extracted from https://di.hkex.com.hk/di/NSSrchCorpList.aspx?sa1=cl&scsd=01/07/2023&sced=31/12/2023&sc=2273&src=MAIN&lang=EN&g_lang=en.\n",
      "Data extraction completed. JSON object generated.\n",
      "['\\x0cII. Movements in Issued Shares', '1. Class of shares', 'Ordinary shares', 'Type of shares', 'Not applicable', 'Listed on SEHK (Note 1)', 'Yes', 'Stock code', '02362', 'Description', 'Balance at close of preceding month', 'Increase / decrease (-)', 'Balance at close of the month', '12,502,082,051', '0', '12,502,082,051', 'FF301', 'Page 2 of 8', 'v', '1.0.2']\n"
     ]
    },
    {
     "name": "stderr",
     "output_type": "stream",
     "text": [
      "Processing:  73%|███████▎  | 37/51 [01:05<00:24,  1.73s/it]"
     ]
    },
    {
     "name": "stdout",
     "output_type": "stream",
     "text": [
      "Data extracted from https://di.hkex.com.hk/di/NSSrchCorpList.aspx?sa1=cl&scsd=01/07/2023&sced=31/12/2023&sc=2362&src=MAIN&lang=EN&g_lang=en.\n",
      "Data extraction completed. JSON object generated.\n",
      "['\\x0cII. Movements in Issued Shares', '1. Class of shares', 'Ordinary shares', 'Type of shares', 'Not applicable', 'Listed on SEHK (Note 1)', 'Yes', 'Stock code', '02416', 'Description', 'Balance at close of preceding month', 'Increase / decrease (-)', 'Balance at close of the month', '574,260,070', '1,659,390', '575,919,460', 'FF301', 'Page 2 of 7', 'v', '1.0.2']\n"
     ]
    },
    {
     "name": "stderr",
     "output_type": "stream",
     "text": [
      "Processing:  75%|███████▍  | 38/51 [01:08<00:23,  1.84s/it]"
     ]
    },
    {
     "name": "stdout",
     "output_type": "stream",
     "text": [
      "Data extracted from https://di.hkex.com.hk/di/NSSrchCorpList.aspx?sa1=cl&scsd=01/07/2023&sced=31/12/2023&sc=2416&src=MAIN&lang=EN&g_lang=en.\n",
      "Data extraction completed. JSON object generated.\n",
      "['\\x0cII. Movements in Issued Shares', '1. Class of shares', 'Ordinary shares', 'Type of shares', 'Not applicable', 'Listed on SEHK (Note 1)', 'Yes', 'Stock code', '02469', 'Description', 'Balance at close of preceding month', 'Increase / decrease (-)', 'Balance at close of the month', '2,253,657,730', '27,723,100', '2,281,380,830', 'FF301', 'Page 2 of 7', 'v', '1.0.2']\n"
     ]
    },
    {
     "name": "stderr",
     "output_type": "stream",
     "text": [
      "Processing:  76%|███████▋  | 39/51 [01:16<00:44,  3.71s/it]"
     ]
    },
    {
     "name": "stdout",
     "output_type": "stream",
     "text": [
      "Data extracted from https://di.hkex.com.hk/di/NSSrchCorpList.aspx?sa1=cl&scsd=01/07/2023&sced=31/12/2023&sc=2469&src=MAIN&lang=EN&g_lang=en.\n",
      "Data extraction completed. JSON object generated.\n",
      "['\\x0cII. Movements in Issued Shares', '1. Class of shares', 'Ordinary shares', 'Type of shares', 'Not applicable', 'Listed on SEHK (Note 1)', 'Yes', 'Stock code', '03383', 'Description', 'N/A', 'Balance at close of preceding month', '5,046,047,500', 'Increase / decrease (-)', 'Balance at close of the month', '5,046,047,500', 'FF301', 'Page 2 of 6', 'v', '1.0.2']\n"
     ]
    },
    {
     "name": "stderr",
     "output_type": "stream",
     "text": [
      "Processing:  78%|███████▊  | 40/51 [01:25<00:58,  5.29s/it]"
     ]
    },
    {
     "name": "stdout",
     "output_type": "stream",
     "text": [
      "Data extracted from https://di.hkex.com.hk/di/NSSrchCorpList.aspx?sa1=cl&scsd=01/07/2023&sced=31/12/2023&sc=3383&src=MAIN&lang=EN&g_lang=en.\n",
      "Data extraction completed. JSON object generated.\n",
      "['\\x0cII. Movements in Issued Shares', '1. Class of shares', 'Ordinary shares', 'Type of shares', 'Not applicable', 'Listed on SEHK (Note 1)', 'Yes', 'Stock code', '03668', 'Description', 'Balance at close of preceding month', 'Increase / decrease (-)', 'Balance at close of the month', '1,320,439,437', '0', '1,320,439,437', 'FF301', 'Page 2 of 6', 'v', '1.0.2']\n"
     ]
    },
    {
     "name": "stderr",
     "output_type": "stream",
     "text": [
      "Processing:  80%|████████  | 41/51 [01:28<00:46,  4.66s/it]"
     ]
    },
    {
     "name": "stdout",
     "output_type": "stream",
     "text": [
      "Data extracted from https://di.hkex.com.hk/di/NSSrchCorpList.aspx?sa1=cl&scsd=01/07/2023&sced=31/12/2023&sc=3668&src=MAIN&lang=EN&g_lang=en.\n",
      "Data extraction completed. JSON object generated.\n",
      "['\\x0cII. Movements in Issued Shares', '1. Class of shares', 'Ordinary shares', 'Type of shares', 'Not applicable', 'Listed on SEHK (Note 1)', 'Yes', 'Stock code', '03888', 'Description', 'Ordinary Shares', 'Balance at close of preceding month', 'Increase / decrease (-)', 'Balance at close of the month', '1,365,543,317', '0', '1,365,543,317', 'FF301', 'Page 2 of 8', 'v', '1.0.2']\n"
     ]
    },
    {
     "name": "stderr",
     "output_type": "stream",
     "text": [
      "Processing:  82%|████████▏ | 42/51 [01:29<00:31,  3.53s/it]"
     ]
    },
    {
     "name": "stdout",
     "output_type": "stream",
     "text": [
      "Data extracted from https://di.hkex.com.hk/di/NSSrchCorpList.aspx?sa1=cl&scsd=01/07/2023&sced=31/12/2023&sc=3888&src=MAIN&lang=EN&g_lang=en.\n",
      "Data extraction completed. JSON object generated.\n",
      "['\\x0cII. Movements in Issued Shares', '1. Class of shares', 'Ordinary shares', 'Type of shares', 'Not applicable', 'Listed on SEHK (Note 1)', 'Yes', 'Stock code', '03900', 'Description', 'Balance at close of preceding month', '2,531,998,690', 'Increase / decrease (-)', 'Balance at close of the month', '2,531,998,690', 'FF301', 'Page 2 of 7', 'v', '1.0.2']\n"
     ]
    },
    {
     "name": "stderr",
     "output_type": "stream",
     "text": [
      "Processing:  84%|████████▍ | 43/51 [01:32<00:27,  3.46s/it]"
     ]
    },
    {
     "name": "stdout",
     "output_type": "stream",
     "text": [
      "Data extracted from https://di.hkex.com.hk/di/NSSrchCorpList.aspx?sa1=cl&scsd=01/07/2023&sced=31/12/2023&sc=3900&src=MAIN&lang=EN&g_lang=en.\n",
      "Data extraction completed. JSON object generated.\n",
      "['\\x0cII. Movements in Issued Shares', '1. Class of shares', 'Ordinary shares', 'Type of shares', 'Not applicable', 'Listed on SEHK (Note 1)', 'Yes', 'Stock code', '03918', 'Description', 'Balance at close of preceding month', 'Increase / decrease (-)', 'Balance at close of the month', '4,422,990,160', '0', '4,422,990,160', 'FF301', 'Page 2 of 8', 'v', '1.0.2']\n"
     ]
    },
    {
     "name": "stderr",
     "output_type": "stream",
     "text": [
      "Processing:  86%|████████▋ | 44/51 [01:35<00:23,  3.39s/it]"
     ]
    },
    {
     "name": "stdout",
     "output_type": "stream",
     "text": [
      "Data extracted from https://di.hkex.com.hk/di/NSSrchCorpList.aspx?sa1=cl&scsd=01/07/2023&sced=31/12/2023&sc=3918&src=MAIN&lang=EN&g_lang=en.\n",
      "Data extraction completed. JSON object generated.\n",
      "['II. Movements in Issued Shares', '1. Class of shares', 'Ordinary shares', 'Type of shares', 'A', 'Listed on SEHK (Note 1)', 'No', 'Stock code', '600958', 'Description', 'Shanghai Stock Exchange', 'Balance at close of preceding month', '7,469,482,864', 'Increase / decrease (-)', 'Balance at close of the month', '7,469,482,864', '2. Class of shares', 'Ordinary shares', 'Type of shares', 'H', 'Listed on SEHK (Note 1)', 'Yes', 'Stock code', '03958', 'Description', 'H Shares', 'Balance at close of preceding month', '1,027,162,428', 'Increase / decrease (-)', 'Balance at close of the month', '1,027,162,428', 'Page 2 of 6', 'v', '1.0.2']\n"
     ]
    },
    {
     "name": "stderr",
     "output_type": "stream",
     "text": [
      "Processing:  88%|████████▊ | 45/51 [01:37<00:16,  2.81s/it]"
     ]
    },
    {
     "name": "stdout",
     "output_type": "stream",
     "text": [
      "Data extracted from https://di.hkex.com.hk/di/NSSrchCorpList.aspx?sa1=cl&scsd=01/07/2023&sced=31/12/2023&sc=3958&src=MAIN&lang=EN&g_lang=en.\n",
      "Data extraction completed. JSON object generated.\n",
      "['\\x0cII. Movements in Issued Shares', '1. Class of shares', 'Ordinary shares', 'Type of shares', 'Not applicable', 'Listed on SEHK (Note 1)', 'Yes', 'Stock code', '06889', 'Description', 'Balance at close of preceding month', 'Increase / decrease (-)', 'Balance at close of the month', '704,867,696', '704,867,696', 'FF301', 'Page 2 of 6', 'v', '1.0.2']\n"
     ]
    },
    {
     "name": "stderr",
     "output_type": "stream",
     "text": [
      "Processing:  90%|█████████ | 46/51 [01:39<00:12,  2.55s/it]"
     ]
    },
    {
     "name": "stdout",
     "output_type": "stream",
     "text": [
      "Data extracted from https://di.hkex.com.hk/di/NSSrchCorpList.aspx?sa1=cl&scsd=01/10/2023&sced=31/12/2023&sc=6889&src=MAIN&lang=EN&g_lang=en.\n",
      "Data extraction completed. JSON object generated.\n",
      "['\\x0cII. Movements in Issued Shares', '1. Class of shares', 'Ordinary shares', 'Type of shares', 'Not applicable', 'Listed on SEHK (Note 1)', 'Yes', 'Stock code', '09636', 'Description', 'Balance at close of preceding month', 'Increase / decrease (-)', 'Balance at close of the month', '466,087,000', '0', '466,087,000', 'FF301', 'Page 2 of 6', 'v', '1.0.2']\n"
     ]
    },
    {
     "name": "stderr",
     "output_type": "stream",
     "text": [
      "Processing:  92%|█████████▏| 47/51 [01:40<00:08,  2.20s/it]"
     ]
    },
    {
     "name": "stdout",
     "output_type": "stream",
     "text": [
      "Data extracted from https://di.hkex.com.hk/di/NSSrchCorpList.aspx?sa1=cl&scsd=01/07/2023&sced=31/12/2023&sc=9636&src=MAIN&lang=EN&g_lang=en.\n",
      "Data extraction completed. JSON object generated.\n",
      "['\\x0cII. Movements in Issued Shares', '1. Class of shares', 'Ordinary shares', 'Type of shares', 'Not applicable', 'Listed on SEHK (Note 1)', 'Yes', 'Stock code', '09858', 'Description', 'Balance at close of preceding month', '3,795,404,000', 'Increase / decrease (-)', 'Balance at close of the month', '3,795,404,000', 'FF301', 'Page 2 of 6', 'v', '1.0.2']\n"
     ]
    },
    {
     "name": "stderr",
     "output_type": "stream",
     "text": [
      "Processing:  94%|█████████▍| 48/51 [01:43<00:06,  2.30s/it]"
     ]
    },
    {
     "name": "stdout",
     "output_type": "stream",
     "text": [
      "Data extracted from https://di.hkex.com.hk/di/NSSrchCorpList.aspx?sa1=cl&scsd=01/07/2023&sced=31/12/2023&sc=9858&src=MAIN&lang=EN&g_lang=en.\n",
      "Data extraction completed. JSON object generated.\n",
      "['\\x0cII. Movements in Issued Shares', '1. Class of shares', 'Ordinary shares', 'Type of shares', 'Not applicable', 'Listed on SEHK (Note 1)', 'Yes', 'Stock code', '09860', 'Description', 'Balance at close of preceding month', 'Increase / decrease (-)', 'Balance at close of the month', '727,354,791', '727,354,791', 'FF301', 'Page 2 of 6', 'v', '1.0.2']\n"
     ]
    },
    {
     "name": "stderr",
     "output_type": "stream",
     "text": [
      "Processing:  96%|█████████▌| 49/51 [01:46<00:05,  2.61s/it]"
     ]
    },
    {
     "name": "stdout",
     "output_type": "stream",
     "text": [
      "Data extracted from https://di.hkex.com.hk/di/NSSrchCorpList.aspx?sa1=cl&scsd=01/07/2023&sced=31/12/2023&sc=9860&src=MAIN&lang=EN&g_lang=en.\n",
      "Data extraction completed. JSON object generated.\n",
      "['\\x0cII. Movements in Issued Shares', '1. Class of shares', 'Ordinary shares', 'Type of shares', 'Not applicable', 'Listed on SEHK (Note 1)', 'Yes', 'Stock code', '09923', 'Description', 'Balance at close of preceding month', 'Increase / decrease (-)', 'Balance at close of the month', '445,992,842', '0', '445,992,842', 'FF301', 'Page 2 of 9', 'v', '1.0.2']\n"
     ]
    },
    {
     "name": "stderr",
     "output_type": "stream",
     "text": [
      "Processing:  98%|█████████▊| 50/51 [01:52<00:03,  3.77s/it]"
     ]
    },
    {
     "name": "stdout",
     "output_type": "stream",
     "text": [
      "Data extracted from https://di.hkex.com.hk/di/NSSrchCorpList.aspx?sa1=cl&scsd=01/07/2023&sced=31/12/2023&sc=9923&src=MAIN&lang=EN&g_lang=en.\n",
      "Data extraction completed. JSON object generated.\n",
      "['\\x0cII. Movements in Issued Shares', '1. Class of shares', 'Ordinary shares', 'Type of shares', 'Not applicable', 'Listed on SEHK (Note 1)', 'Yes', 'Stock code', '09930', 'Description', 'Balance at close of preceding month', 'Increase / decrease (-)', 'Balance at close of the month', '3,197,244,000', '0', '3,197,244,000', 'FF301', 'Page 2 of 6', 'v', '1.0.2']\n"
     ]
    },
    {
     "name": "stderr",
     "output_type": "stream",
     "text": [
      "Processing: 100%|██████████| 51/51 [01:53<00:00,  2.23s/it]"
     ]
    },
    {
     "name": "stdout",
     "output_type": "stream",
     "text": [
      "Data extracted from https://di.hkex.com.hk/di/NSSrchCorpList.aspx?sa1=cl&scsd=01/07/2023&sced=31/12/2023&sc=9930&src=MAIN&lang=EN&g_lang=en.\n",
      "Data extraction completed. JSON object generated.\n"
     ]
    },
    {
     "name": "stderr",
     "output_type": "stream",
     "text": [
      "\n"
     ]
    }
   ],
   "source": [
    "import pandas as pd\n",
    "from tqdm import tqdm\n",
    "from datetime import datetime\n",
    "\n",
    "# Load the CSV file\n",
    "data = pd.read_csv('provided_data/faf_documents.csv')\n",
    "required = pd.read_csv('provided_data/sample_submission.csv')\n",
    "required_codes = required['ID'].to_numpy()\n",
    "stock_codes = []\n",
    "outputs = []\n",
    "\n",
    "# Initialize tqdm for the progress bar\n",
    "for index, row in tqdm(data.iterrows(), total=len(data), desc=\"Processing\"):\n",
    "    \n",
    "    if not (row[\"RIC\"] in required_codes):\n",
    "        continue\n",
    "    \n",
    "    stock_codes.append(row[\"RIC\"])\n",
    "    \n",
    "    # crawl data\n",
    "    total_issued_shares = crawl_monthly_return(row[\"Monthly Return\"], row[\"RIC\"])[\"total_issued_shares\"]\n",
    "    sdi_data = crawl_sdi(row[\"SDI\"])\n",
    "\n",
    "    # calculate threshold\n",
    "    threshold_shares = total_issued_shares * 0.05\n",
    "\n",
    "    # initialize answer\n",
    "    freefloat = total_issued_shares\n",
    "\n",
    "    # Get substantial \n",
    "    for substantial_shareholder in sdi_data[\"consolidated_list_of_substantial_shareholders\"]:\n",
    "        shares = substantial_shareholder[\"long_position\"][0][\"total_number_of_shares\"] - substantial_shareholder[\"total_number_of_derivatives\"]\n",
    "        if shares >= threshold_shares:\n",
    "            freefloat -= shares\n",
    "\n",
    "    # Get unique notices\n",
    "    # Dictionary to store the most recent notice for each shareholder\n",
    "    notices_dict = {} \n",
    "    for notice in sdi_data[\"list_of_all_notices\"]:\n",
    "        name = notice[\"name_of_noticed_shareholder\"]\n",
    "        if notice[\"date_of_relevant_event\"] is None:\n",
    "            continue\n",
    "        date = datetime.strptime(notice[\"date_of_relevant_event\"], \"%d/%m/%Y\")\n",
    "        if name not in notices_dict or date > notices_dict[name][\"date\"]:\n",
    "            notices_dict[name] = notice\n",
    "            notices_dict[name][\"date\"] = date\n",
    "            \n",
    "    # Convert the dictionary back to a list\n",
    "    unique_notices = list(notices_dict.values())\n",
    "    for notice in unique_notices:\n",
    "        shares = notice[\"long_position\"][0][\"total_number_of_shares\"] - notice[\"total_number_of_derivatives\"]\n",
    "        if shares >= threshold_shares:\n",
    "            freefloat -= shares\n",
    "\n",
    "    freefloat /= total_issued_shares\n",
    "    \n",
    "    outputs.append(freefloat)\n",
    "\n",
    "# Create a DataFrame with the collected data\n",
    "result_df = pd.DataFrame({\n",
    "    \"ID\": stock_codes,\n",
    "    \"outputs\": outputs\n",
    "})\n",
    "\n",
    "# Save the DataFrame to a CSV file\n",
    "result_df.to_csv('output.csv', index=False)\n"
   ]
  },
  {
   "cell_type": "markdown",
   "metadata": {},
   "source": [
    "2.0 Data Washing"
   ]
  },
  {
   "cell_type": "code",
   "execution_count": 6,
   "metadata": {},
   "outputs": [],
   "source": [
    "# 1. sdi_take the newest one\n",
    "# 2. take union"
   ]
  },
  {
   "cell_type": "markdown",
   "metadata": {},
   "source": [
    "2.1 "
   ]
  },
  {
   "cell_type": "code",
   "execution_count": 7,
   "metadata": {},
   "outputs": [],
   "source": [
    "#for rag_holder in rag_data[\"consolidated_list_of_substantial_shareholders\"]:\n",
    "    # 1. Check if SDI data exist\n",
    "       # If Exist, then get the newer one by comparing the event data\n",
    "       # If not, just use the rag one\n",
    "       \n",
    "    # 2. Check whether it overshot the thersold or not\n",
    "        # If percentage figure >= 5%, it is non freefloat\n",
    "        # Else reject the data\n",
    "    # 3. Output the washed JSON object\n",
    "    "
   ]
  },
  {
   "cell_type": "markdown",
   "metadata": {},
   "source": [
    "3.0 Calculation"
   ]
  },
  {
   "cell_type": "code",
   "execution_count": 8,
   "metadata": {},
   "outputs": [],
   "source": [
    "# Total issued shares - non-free-float shares = answer"
   ]
  }
 ],
 "metadata": {
  "kernelspec": {
   "display_name": "base",
   "language": "python",
   "name": "python3"
  },
  "language_info": {
   "codemirror_mode": {
    "name": "ipython",
    "version": 3
   },
   "file_extension": ".py",
   "mimetype": "text/x-python",
   "name": "python",
   "nbconvert_exporter": "python",
   "pygments_lexer": "ipython3",
   "version": "3.12.2"
  }
 },
 "nbformat": 4,
 "nbformat_minor": 2
}
